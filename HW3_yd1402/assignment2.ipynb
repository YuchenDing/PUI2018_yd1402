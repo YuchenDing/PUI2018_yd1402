{
 "cells": [
  {
   "cell_type": "code",
   "execution_count": null,
   "metadata": {},
   "outputs": [],
   "source": [
    "# example of gathering, reading, and plotting data\n",
    "# developed by YuchenDing for PUI in 2018\n",
    "# uses NYC data portal NYC OPEN DATA https://data.cityofnewyork.us/\n"
   ]
  },
  {
   "cell_type": "code",
   "execution_count": 13,
   "metadata": {},
   "outputs": [
    {
     "name": "stdout",
     "output_type": "stream",
     "text": [
      "Populating the interactive namespace from numpy and matplotlib\n"
     ]
    }
   ],
   "source": [
    "from __future__ import print_function \n",
    "import os\n",
    "import pandas as pd\n",
    "from matplotlib import pylab\n",
    "%pylab inline"
   ]
  },
  {
   "cell_type": "code",
   "execution_count": 14,
   "metadata": {},
   "outputs": [
    {
     "name": "stdout",
     "output_type": "stream",
     "text": [
      "  % Total    % Received % Xferd  Average Speed   Time    Time     Time  Current\n",
      "                                 Dload  Upload   Total   Spent    Left  Speed\n",
      "100 20894    0 20894    0     0    98k      0 --:--:-- --:--:-- --:--:--   99k\n"
     ]
    }
   ],
   "source": [
    "!curl https://data.cityofnewyork.us/api/views/jxdc-hnze/rows.csv?accessType=DOWNLOAD>tsev.csv\n",
    "    "
   ]
  },
  {
   "cell_type": "code",
   "execution_count": 46,
   "metadata": {},
   "outputs": [
    {
     "name": "stdout",
     "output_type": "stream",
     "text": [
      "PUIdata /nfshome/yd1402/PUIdata\n",
      "/nfshome/yd1402/PUIdata\r\n"
     ]
    }
   ],
   "source": [
    "os.environ[\"PUIDATA\"] = \"%s/PUIdata\"%os.getenv(\"HOME\")\n",
    "print(\"PUIdata\", os.getenv(\"PUIDATA\"))\n",
    "tsev = pd.read_csv('PUIDATA/tsev.csv')\n",
    "!ls $PUIDATA"
   ]
  },
  {
   "cell_type": "code",
   "execution_count": 38,
   "metadata": {},
   "outputs": [
    {
     "data": {
      "text/html": [
       "<div>\n",
       "<table border=\"1\" class=\"dataframe\">\n",
       "  <thead>\n",
       "    <tr style=\"text-align: right;\">\n",
       "      <th></th>\n",
       "      <th>Company Name</th>\n",
       "      <th>Subindustry</th>\n",
       "      <th>Sub Subindustry</th>\n",
       "      <th>Address</th>\n",
       "      <th>Phone</th>\n",
       "      <th>Website</th>\n",
       "      <th>Borough</th>\n",
       "      <th>Postcode</th>\n",
       "      <th>Latitude</th>\n",
       "      <th>Longitude</th>\n",
       "      <th>Community Board</th>\n",
       "      <th>Community Council</th>\n",
       "      <th>Census Tract</th>\n",
       "      <th>BIN</th>\n",
       "      <th>BBL</th>\n",
       "      <th>NTA</th>\n",
       "      <th>Location 1</th>\n",
       "    </tr>\n",
       "  </thead>\n",
       "  <tbody>\n",
       "    <tr>\n",
       "      <th>0</th>\n",
       "      <td>Al Hirschfeld Theater</td>\n",
       "      <td>Theater</td>\n",
       "      <td>League</td>\n",
       "      <td>302 W 45th St</td>\n",
       "      <td>(212) 239-6200</td>\n",
       "      <td>NaN</td>\n",
       "      <td>1</td>\n",
       "      <td>10036.0</td>\n",
       "      <td>40.759351</td>\n",
       "      <td>-73.988864</td>\n",
       "      <td>104.0</td>\n",
       "      <td>3.0</td>\n",
       "      <td>121.0</td>\n",
       "      <td>1024993.0</td>\n",
       "      <td>1.010350e+09</td>\n",
       "      <td>Clinton                                       ...</td>\n",
       "      <td>302 W 45th St\\n(40.759351, -73.988864)</td>\n",
       "    </tr>\n",
       "    <tr>\n",
       "      <th>1</th>\n",
       "      <td>The World Famous Laugh Factory</td>\n",
       "      <td>Comedy Club</td>\n",
       "      <td>NaN</td>\n",
       "      <td>303 W 42nd St</td>\n",
       "      <td>212-586-7829 x304</td>\n",
       "      <td>NaN</td>\n",
       "      <td>1</td>\n",
       "      <td>10036.0</td>\n",
       "      <td>40.757436</td>\n",
       "      <td>-73.990254</td>\n",
       "      <td>104.0</td>\n",
       "      <td>3.0</td>\n",
       "      <td>121.0</td>\n",
       "      <td>1024947.0</td>\n",
       "      <td>1.010330e+09</td>\n",
       "      <td>Clinton                                       ...</td>\n",
       "      <td>303 W 42nd St\\n(40.757436, -73.990254)</td>\n",
       "    </tr>\n",
       "    <tr>\n",
       "      <th>2</th>\n",
       "      <td>Bernard B. Jacobs Theatre</td>\n",
       "      <td>Theater</td>\n",
       "      <td>League</td>\n",
       "      <td>242 W 45th St</td>\n",
       "      <td>(212) 239-2820</td>\n",
       "      <td>NaN</td>\n",
       "      <td>1</td>\n",
       "      <td>10036.0</td>\n",
       "      <td>40.758704</td>\n",
       "      <td>-73.987294</td>\n",
       "      <td>105.0</td>\n",
       "      <td>3.0</td>\n",
       "      <td>119.0</td>\n",
       "      <td>1024716.0</td>\n",
       "      <td>1.010160e+09</td>\n",
       "      <td>Midtown-Midtown South                         ...</td>\n",
       "      <td>242 W 45th St\\n(40.758704, -73.987294)</td>\n",
       "    </tr>\n",
       "    <tr>\n",
       "      <th>3</th>\n",
       "      <td>Music Box Theater</td>\n",
       "      <td>Theater</td>\n",
       "      <td>League</td>\n",
       "      <td>239 W 45th St</td>\n",
       "      <td>212 239-6200</td>\n",
       "      <td>NaN</td>\n",
       "      <td>1</td>\n",
       "      <td>10036.0</td>\n",
       "      <td>40.758660</td>\n",
       "      <td>-73.987146</td>\n",
       "      <td>105.0</td>\n",
       "      <td>3.0</td>\n",
       "      <td>119.0</td>\n",
       "      <td>1024726.0</td>\n",
       "      <td>1.010170e+09</td>\n",
       "      <td>Midtown-Midtown South                         ...</td>\n",
       "      <td>239 W 45th St\\n(40.75866, -73.987146)</td>\n",
       "    </tr>\n",
       "    <tr>\n",
       "      <th>4</th>\n",
       "      <td>Helen Hayes Theatre</td>\n",
       "      <td>Theater</td>\n",
       "      <td>League</td>\n",
       "      <td>240 W 44th St</td>\n",
       "      <td>(212) 944-9457</td>\n",
       "      <td>NaN</td>\n",
       "      <td>1</td>\n",
       "      <td>10036.0</td>\n",
       "      <td>40.757968</td>\n",
       "      <td>-73.987532</td>\n",
       "      <td>105.0</td>\n",
       "      <td>3.0</td>\n",
       "      <td>119.0</td>\n",
       "      <td>1024708.0</td>\n",
       "      <td>1.010150e+09</td>\n",
       "      <td>Midtown-Midtown South                         ...</td>\n",
       "      <td>240 W 44th St\\n(40.757968, -73.987532)</td>\n",
       "    </tr>\n",
       "    <tr>\n",
       "      <th>5</th>\n",
       "      <td>Touch Nightclub</td>\n",
       "      <td>Nightclub</td>\n",
       "      <td>NaN</td>\n",
       "      <td>240 W 52nd St</td>\n",
       "      <td>212 489-7656</td>\n",
       "      <td>NaN</td>\n",
       "      <td>1</td>\n",
       "      <td>10019.0</td>\n",
       "      <td>40.762999</td>\n",
       "      <td>-73.983922</td>\n",
       "      <td>105.0</td>\n",
       "      <td>3.0</td>\n",
       "      <td>131.0</td>\n",
       "      <td>1080862.0</td>\n",
       "      <td>1.010230e+09</td>\n",
       "      <td>Midtown-Midtown South                         ...</td>\n",
       "      <td>240 W 52nd St\\n(40.762999, -73.983922)</td>\n",
       "    </tr>\n",
       "    <tr>\n",
       "      <th>6</th>\n",
       "      <td>Hawthorne Amusement</td>\n",
       "      <td>Attractions / Amusement</td>\n",
       "      <td>NaN</td>\n",
       "      <td>243 W 42nd St</td>\n",
       "      <td>NaN</td>\n",
       "      <td>NaN</td>\n",
       "      <td>1</td>\n",
       "      <td>10036.0</td>\n",
       "      <td>40.756821</td>\n",
       "      <td>-73.988789</td>\n",
       "      <td>105.0</td>\n",
       "      <td>3.0</td>\n",
       "      <td>119.0</td>\n",
       "      <td>1087142.0</td>\n",
       "      <td>1.010140e+09</td>\n",
       "      <td>Midtown-Midtown South                         ...</td>\n",
       "      <td>243 W 42nd St\\n(40.756821, -73.988789)</td>\n",
       "    </tr>\n",
       "    <tr>\n",
       "      <th>7</th>\n",
       "      <td>Regal Loews Cinemas 42nd Street E-Walk Theater</td>\n",
       "      <td>Movies</td>\n",
       "      <td>NaN</td>\n",
       "      <td>247 W 42nd St</td>\n",
       "      <td>(212) 840-7761</td>\n",
       "      <td>www.regmovies.com</td>\n",
       "      <td>1</td>\n",
       "      <td>10036.0</td>\n",
       "      <td>40.756845</td>\n",
       "      <td>-73.988843</td>\n",
       "      <td>105.0</td>\n",
       "      <td>3.0</td>\n",
       "      <td>119.0</td>\n",
       "      <td>1087142.0</td>\n",
       "      <td>1.010140e+09</td>\n",
       "      <td>Midtown-Midtown South                         ...</td>\n",
       "      <td>247 W 42nd St\\n(40.756845, -73.988843)</td>\n",
       "    </tr>\n",
       "  </tbody>\n",
       "</table>\n",
       "</div>"
      ],
      "text/plain": [
       "                                     Company Name              Subindustry  \\\n",
       "0                           Al Hirschfeld Theater                  Theater   \n",
       "1                  The World Famous Laugh Factory              Comedy Club   \n",
       "2                       Bernard B. Jacobs Theatre                  Theater   \n",
       "3                               Music Box Theater                  Theater   \n",
       "4                             Helen Hayes Theatre                  Theater   \n",
       "5                                 Touch Nightclub                Nightclub   \n",
       "6                             Hawthorne Amusement  Attractions / Amusement   \n",
       "7  Regal Loews Cinemas 42nd Street E-Walk Theater                   Movies   \n",
       "\n",
       "  Sub Subindustry        Address              Phone            Website  \\\n",
       "0          League  302 W 45th St     (212) 239-6200                NaN   \n",
       "1             NaN  303 W 42nd St  212-586-7829 x304                NaN   \n",
       "2          League  242 W 45th St     (212) 239-2820                NaN   \n",
       "3          League  239 W 45th St       212 239-6200                NaN   \n",
       "4          League  240 W 44th St     (212) 944-9457                NaN   \n",
       "5             NaN  240 W 52nd St       212 489-7656                NaN   \n",
       "6             NaN  243 W 42nd St                NaN                NaN   \n",
       "7             NaN  247 W 42nd St     (212) 840-7761  www.regmovies.com   \n",
       "\n",
       "   Borough  Postcode   Latitude  Longitude  Community Board  \\\n",
       "0        1   10036.0  40.759351 -73.988864            104.0   \n",
       "1        1   10036.0  40.757436 -73.990254            104.0   \n",
       "2        1   10036.0  40.758704 -73.987294            105.0   \n",
       "3        1   10036.0  40.758660 -73.987146            105.0   \n",
       "4        1   10036.0  40.757968 -73.987532            105.0   \n",
       "5        1   10019.0  40.762999 -73.983922            105.0   \n",
       "6        1   10036.0  40.756821 -73.988789            105.0   \n",
       "7        1   10036.0  40.756845 -73.988843            105.0   \n",
       "\n",
       "   Community Council   Census Tract        BIN           BBL  \\\n",
       "0                 3.0         121.0  1024993.0  1.010350e+09   \n",
       "1                 3.0         121.0  1024947.0  1.010330e+09   \n",
       "2                 3.0         119.0  1024716.0  1.010160e+09   \n",
       "3                 3.0         119.0  1024726.0  1.010170e+09   \n",
       "4                 3.0         119.0  1024708.0  1.010150e+09   \n",
       "5                 3.0         131.0  1080862.0  1.010230e+09   \n",
       "6                 3.0         119.0  1087142.0  1.010140e+09   \n",
       "7                 3.0         119.0  1087142.0  1.010140e+09   \n",
       "\n",
       "                                                 NTA  \\\n",
       "0  Clinton                                       ...   \n",
       "1  Clinton                                       ...   \n",
       "2  Midtown-Midtown South                         ...   \n",
       "3  Midtown-Midtown South                         ...   \n",
       "4  Midtown-Midtown South                         ...   \n",
       "5  Midtown-Midtown South                         ...   \n",
       "6  Midtown-Midtown South                         ...   \n",
       "7  Midtown-Midtown South                         ...   \n",
       "\n",
       "                               Location 1  \n",
       "0  302 W 45th St\\n(40.759351, -73.988864)  \n",
       "1  303 W 42nd St\\n(40.757436, -73.990254)  \n",
       "2  242 W 45th St\\n(40.758704, -73.987294)  \n",
       "3   239 W 45th St\\n(40.75866, -73.987146)  \n",
       "4  240 W 44th St\\n(40.757968, -73.987532)  \n",
       "5  240 W 52nd St\\n(40.762999, -73.983922)  \n",
       "6  243 W 42nd St\\n(40.756821, -73.988789)  \n",
       "7  247 W 42nd St\\n(40.756845, -73.988843)  "
      ]
     },
     "execution_count": 38,
     "metadata": {},
     "output_type": "execute_result"
    }
   ],
   "source": [
    "tsev.head(8)"
   ]
  },
  {
   "cell_type": "code",
   "execution_count": 39,
   "metadata": {},
   "outputs": [
    {
     "data": {
      "text/html": [
       "<div>\n",
       "<table border=\"1\" class=\"dataframe\">\n",
       "  <thead>\n",
       "    <tr style=\"text-align: right;\">\n",
       "      <th></th>\n",
       "      <th>Company Name</th>\n",
       "      <th>Subindustry</th>\n",
       "      <th>Sub Subindustry</th>\n",
       "      <th>Address</th>\n",
       "      <th>Phone</th>\n",
       "      <th>Website</th>\n",
       "      <th>Borough</th>\n",
       "      <th>Postcode</th>\n",
       "      <th>Latitude</th>\n",
       "      <th>Longitude</th>\n",
       "      <th>Community Board</th>\n",
       "      <th>Community Council</th>\n",
       "      <th>Census Tract</th>\n",
       "      <th>BIN</th>\n",
       "      <th>BBL</th>\n",
       "      <th>NTA</th>\n",
       "      <th>Location 1</th>\n",
       "    </tr>\n",
       "  </thead>\n",
       "  <tbody>\n",
       "    <tr>\n",
       "      <th>79</th>\n",
       "      <td>The Duke</td>\n",
       "      <td>Theater</td>\n",
       "      <td>Off-Broadway</td>\n",
       "      <td>229 W 42nd Street 5th Floor</td>\n",
       "      <td>NaN</td>\n",
       "      <td>http://www.new42.org/duke/duke_home.aspx</td>\n",
       "      <td>1</td>\n",
       "      <td>10036.0</td>\n",
       "      <td>40.756571</td>\n",
       "      <td>-73.988190</td>\n",
       "      <td>105.0</td>\n",
       "      <td>3.0</td>\n",
       "      <td>119.0</td>\n",
       "      <td>1024683.0</td>\n",
       "      <td>1.010140e+09</td>\n",
       "      <td>Midtown-Midtown South                         ...</td>\n",
       "      <td>229 W 42nd Street 5th Floor\\n(40.756571, -73.9...</td>\n",
       "    </tr>\n",
       "    <tr>\n",
       "      <th>80</th>\n",
       "      <td>Carolines on Broadway</td>\n",
       "      <td>Comedy Club</td>\n",
       "      <td>NaN</td>\n",
       "      <td>1626 Broadway</td>\n",
       "      <td>(212) 757-4100</td>\n",
       "      <td>https://www.carolines.com/</td>\n",
       "      <td>1</td>\n",
       "      <td>10019.0</td>\n",
       "      <td>40.761228</td>\n",
       "      <td>-73.984178</td>\n",
       "      <td>105.0</td>\n",
       "      <td>4.0</td>\n",
       "      <td>125.0</td>\n",
       "      <td>1024795.0</td>\n",
       "      <td>1.010210e+09</td>\n",
       "      <td>Midtown-Midtown South                         ...</td>\n",
       "      <td>1626 Broadway\\n(40.761228, -73.984178)</td>\n",
       "    </tr>\n",
       "    <tr>\n",
       "      <th>81</th>\n",
       "      <td>Arena Nightclub &amp; Event Space</td>\n",
       "      <td>Nightclub</td>\n",
       "      <td>NaN</td>\n",
       "      <td>135 W 41st \\nGround Floor</td>\n",
       "      <td>(212) 278-0988</td>\n",
       "      <td>http://www.arenanyc.net/</td>\n",
       "      <td>1</td>\n",
       "      <td>NaN</td>\n",
       "      <td>NaN</td>\n",
       "      <td>NaN</td>\n",
       "      <td>NaN</td>\n",
       "      <td>NaN</td>\n",
       "      <td>NaN</td>\n",
       "      <td>NaN</td>\n",
       "      <td>NaN</td>\n",
       "      <td>NaN</td>\n",
       "      <td>135 W 41st Ground Floor\\n(34.682185, -86.499361)</td>\n",
       "    </tr>\n",
       "  </tbody>\n",
       "</table>\n",
       "</div>"
      ],
      "text/plain": [
       "                     Company Name  Subindustry Sub Subindustry  \\\n",
       "79                       The Duke      Theater    Off-Broadway   \n",
       "80          Carolines on Broadway  Comedy Club             NaN   \n",
       "81  Arena Nightclub & Event Space    Nightclub             NaN   \n",
       "\n",
       "                        Address           Phone  \\\n",
       "79  229 W 42nd Street 5th Floor             NaN   \n",
       "80                1626 Broadway  (212) 757-4100   \n",
       "81    135 W 41st \\nGround Floor  (212) 278-0988   \n",
       "\n",
       "                                     Website  Borough  Postcode   Latitude  \\\n",
       "79  http://www.new42.org/duke/duke_home.aspx        1   10036.0  40.756571   \n",
       "80                https://www.carolines.com/        1   10019.0  40.761228   \n",
       "81                  http://www.arenanyc.net/        1       NaN        NaN   \n",
       "\n",
       "    Longitude  Community Board  Community Council   Census Tract        BIN  \\\n",
       "79 -73.988190            105.0                 3.0         119.0  1024683.0   \n",
       "80 -73.984178            105.0                 4.0         125.0  1024795.0   \n",
       "81        NaN              NaN                 NaN           NaN        NaN   \n",
       "\n",
       "             BBL                                                NTA  \\\n",
       "79  1.010140e+09  Midtown-Midtown South                         ...   \n",
       "80  1.010210e+09  Midtown-Midtown South                         ...   \n",
       "81           NaN                                                NaN   \n",
       "\n",
       "                                           Location 1  \n",
       "79  229 W 42nd Street 5th Floor\\n(40.756571, -73.9...  \n",
       "80             1626 Broadway\\n(40.761228, -73.984178)  \n",
       "81   135 W 41st Ground Floor\\n(34.682185, -86.499361)  "
      ]
     },
     "execution_count": 39,
     "metadata": {},
     "output_type": "execute_result"
    }
   ],
   "source": [
    "tsev.tail(3)"
   ]
  },
  {
   "cell_type": "code",
   "execution_count": 41,
   "metadata": {},
   "outputs": [
    {
     "data": {
      "text/plain": [
       "Index(['Company Name', 'Subindustry', 'Sub Subindustry', 'Address', 'Phone',\n",
       "       'Website', 'Borough', 'Postcode', 'Latitude', 'Longitude',\n",
       "       'Community Board', 'Community Council ', 'Census Tract', 'BIN', 'BBL',\n",
       "       'NTA', 'Location 1'],\n",
       "      dtype='object')"
      ]
     },
     "execution_count": 41,
     "metadata": {},
     "output_type": "execute_result"
    }
   ],
   "source": [
    "tsev.columns"
   ]
  },
  {
   "cell_type": "code",
   "execution_count": 42,
   "metadata": {},
   "outputs": [
    {
     "data": {
      "text/plain": [
       "1394"
      ]
     },
     "execution_count": 42,
     "metadata": {},
     "output_type": "execute_result"
    }
   ],
   "source": [
    "tsev.size"
   ]
  },
  {
   "cell_type": "code",
   "execution_count": 43,
   "metadata": {},
   "outputs": [
    {
     "data": {
      "text/html": [
       "<div>\n",
       "<table border=\"1\" class=\"dataframe\">\n",
       "  <thead>\n",
       "    <tr style=\"text-align: right;\">\n",
       "      <th></th>\n",
       "      <th>Postcode</th>\n",
       "      <th>Community Board</th>\n",
       "    </tr>\n",
       "  </thead>\n",
       "  <tbody>\n",
       "    <tr>\n",
       "      <th>0</th>\n",
       "      <td>10036.0</td>\n",
       "      <td>104.0</td>\n",
       "    </tr>\n",
       "    <tr>\n",
       "      <th>1</th>\n",
       "      <td>10036.0</td>\n",
       "      <td>104.0</td>\n",
       "    </tr>\n",
       "    <tr>\n",
       "      <th>2</th>\n",
       "      <td>10036.0</td>\n",
       "      <td>105.0</td>\n",
       "    </tr>\n",
       "    <tr>\n",
       "      <th>3</th>\n",
       "      <td>10036.0</td>\n",
       "      <td>105.0</td>\n",
       "    </tr>\n",
       "    <tr>\n",
       "      <th>4</th>\n",
       "      <td>10036.0</td>\n",
       "      <td>105.0</td>\n",
       "    </tr>\n",
       "  </tbody>\n",
       "</table>\n",
       "</div>"
      ],
      "text/plain": [
       "   Postcode  Community Board\n",
       "0   10036.0            104.0\n",
       "1   10036.0            104.0\n",
       "2   10036.0            105.0\n",
       "3   10036.0            105.0\n",
       "4   10036.0            105.0"
      ]
     },
     "execution_count": 43,
     "metadata": {},
     "output_type": "execute_result"
    }
   ],
   "source": [
    "tsev_2c = tsev[['Postcode', 'Community Board']]\n",
    "tsev_2c.head()"
   ]
  },
  {
   "cell_type": "code",
   "execution_count": 45,
   "metadata": {},
   "outputs": [
    {
     "data": {
      "text/plain": [
       "<matplotlib.axes._subplots.AxesSubplot at 0x7fa7c639be80>"
      ]
     },
     "execution_count": 45,
     "metadata": {},
     "output_type": "execute_result"
    },
    {
     "data": {
      "image/png": "[encoded data removed]",
      "text/plain": [
       "<matplotlib.figure.Figure at 0x7fa7c6b9fcf8>"
      ]
     },
     "metadata": {},
     "output_type": "display_data"
    }
   ],
   "source": [
    "tsev_2c.plot(x=\"Postcode\", y=\"Community Board\",kind = 'scatter')"
   ]
  },
  {
   "cell_type": "code",
   "execution_count": null,
   "metadata": {},
   "outputs": [],
   "source": []
  }
 ],
 "metadata": {
  "kernelspec": {
   "display_name": "PUI2016_Python3",
   "language": "python",
   "name": "pui2016_python3"
  },
  "language_info": {
   "codemirror_mode": {
    "name": "ipython",
    "version": 3
   },
   "file_extension": ".py",
   "mimetype": "text/x-python",
   "name": "python",
   "nbconvert_exporter": "python",
   "pygments_lexer": "ipython3",
   "version": "3.5.4"
  }
 },
 "nbformat": 4,
 "nbformat_minor": 2
}
